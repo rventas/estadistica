{
 "cells": [
  {
   "cell_type": "markdown",
   "metadata": {},
   "source": [
    "# Introducción\n",
    "\n",
    "En esta práctica vamos a repasar diferentes tests estadísticos. Para ello nos ayudamos de los datos publicados por BCSC:\n",
    "*NCI-funded Breast Cancer Surveillance Consortium (P01 CA154292 and HHSN261201100031C). Downloaded mm/dd/yyyy from the Breast Cancer Surveillance Consortium Web site - http://www.bcsc-research.org/data/index.html.*\n",
    "\n",
    "Concretamente a través de este enlace:\n",
    "http://www.bcsc-research.org/data/rf/app2/DownloadRequest.aspx\n",
    "\n",
    "\n",
    "El fichero *BCSC_risk_factors_summarized.csv* descargado lo teneis en la carpeta *data*.\n",
    "\n",
    "Ese fichero es un CSV, la descripción de cada columna se puede ver en la siguiente tabla:"
   ]
  },
  {
   "cell_type": "markdown",
   "metadata": {},
   "source": [
    "\n",
    "| Nombre de variable | Descripción | Código | \n",
    "|-|-|-|\n",
    "| year | Año de la observación | Numérico, 2000-2009 |\n",
    "| age_group_5_years| Edad (años) en grupos de 5 años |  1 = Edad 18-29;  2 = Edad 30-34; 3 = Edad 35-39; 4 = Edad 40-44; 5 = Edad 45-49; 6 = Edad 50-54; 7 = Edad 55-59; 8 = Edad 60-64; 9 = Edad 65-69; 10 = Edad 70-74; 11 = Edad 75-79; 12 = Edad 80-84; 13 = Edad ≥85 |\n",
    "| race_eth | Grupo étnico | 1 = Non-Hispanic white; 2 = Non-Hispanic black; 3 = Asian/Pacific Islander; 4 = Native American; 5 = Hispanic; 6 = Other/mixed; 9 = Desconocido |\n",
    "| first_degree_hx | Historial de cancer de un familiar de primer grado | 0 = No; 1 = Sí; 9 = Desconocido |\n",
    "| Edad_menarche | Edad (años) at menarche |0 = Edad ≥14; 1 = Edad 12-13; 2 = Edad <12; 9 = Desconocido\n",
    "| Edad_first_birth | Edad (años) at first birth | 0 = Edad < 20; 1 = Edad 20-24; 2 = Edad 25-29; 3 = Edad ≥30; 4 = Nulliparous; 9 = Desconocido |\n",
    "| BIRADS_breast_density | BI-RADS densidad del cancer de pecho| 1 = Almost entirely fat; 2 =Scattered fibroglandular densities; 3 = Heterogeneously dense; 4 = Extremely dense; 9 = Desconocido |\n",
    "| current_hrt | Uso de terapia de hormonas de reemplazo | 0 = No; 1 = Sí; 9 = Desconocido |\n",
    "| menopaus | Menopausal status | 1 = Pre- or peri-menopausal; 2 = Post-menopausal; 3 = Surgical menopause; 9 = Desconocido |\n",
    "| bmi_group |  Body mass index | 1 = 10-24.99; 2 = 25-29.99; 3 = 30-34.99; 4 = 35 or more; 9 = Desconocido |\n",
    "| biophx | Biopsia previa o aspiración | 0 = No; 1 = Sí; 9 = Desconocido |\n",
    "| breast_cancer_history | Cancer diagnosticado con anterioridad | 0 = No; 1 = Sí; 9 = Desconocido |\n",
    "| count | Número de ocurrencias de estas covariables | Numérico|\n",
    "\n",
    "\n"
   ]
  },
  {
   "cell_type": "markdown",
   "metadata": {},
   "source": [
    "Leemos los datos del csv y los adaptamos. Pasos a seguir:\n",
    "1. Replicamos las filas indicadas por la columna *count*\n",
    "2. Los datos son muy grandes, para agilizar la práctica nos quedamos con 5000 muestras elegidas con muestreo aleatorio simple. El resto se puede descartar.\n",
    "3. Se adapta el resto"
   ]
  },
  {
   "cell_type": "code",
   "execution_count": 1,
   "metadata": {},
   "outputs": [
    {
     "data": {
      "text/html": [
       "6318638"
      ],
      "text/latex": [
       "6318638"
      ],
      "text/markdown": [
       "6318638"
      ],
      "text/plain": [
       "[1] 6318638"
      ]
     },
     "metadata": {},
     "output_type": "display_data"
    }
   ],
   "source": [
    "riskFactors <- read.csv(\"./datos/BCSC_risk_factors_summarized.csv\")\n",
    "riskFactors.replicated <- riskFactors[rep(row.names(riskFactors), riskFactors$count), ]\n",
    "nrow(riskFactors.replicated)"
   ]
  },
  {
   "cell_type": "markdown",
   "metadata": {},
   "source": [
    "El número de filas tras replicar las filas indicadas por la columna *count* es de 6318638. Como este número es muy alto para la máquina virtual que tenemos vamos a realizar una muestreo aleatorio simple y nos quedaremos con 5000 filas. El resto se descartan.\n",
    "\n",
    "*Nota:*Para el muestreo usad la semilla 12345, de esta forma todos tendresmos exactamente los mismos resultados."
   ]
  },
  {
   "cell_type": "code",
   "execution_count": 2,
   "metadata": {},
   "outputs": [
    {
     "data": {
      "text/html": [
       "5000"
      ],
      "text/latex": [
       "5000"
      ],
      "text/markdown": [
       "5000"
      ],
      "text/plain": [
       "[1] 5000"
      ]
     },
     "metadata": {},
     "output_type": "display_data"
    }
   ],
   "source": [
    "#Definimos una semilla común para todos:\n",
    "set.seed(12345)\n",
    "#Utiliza muestreo aleatorio simple para quedarnos con 5000 muestras:\n",
    "i <- sample(1:nrow(riskFactors.replicated),5000, replace = F)\n",
    "riskFactors.sample <- riskFactors.replicated[i,]\n",
    "nrow(riskFactors.sample)"
   ]
  },
  {
   "cell_type": "markdown",
   "metadata": {},
   "source": [
    "Formatear el dataframe:\n",
    "* Cambiamos los *Desconocido* por NA en las columnas \"race_eth\", \"first_degree_hx\", \"age_menarche\", \"age_first_birth\", \"BIRADS_breast_density\", \"current_hrt\", \"menopaus\", \"bmi_group\", \"biophx\", \"breast_cancer_history\"\n",
    "* Convertimos a factores las columnas que vamos a necesitar"
   ]
  },
  {
   "cell_type": "code",
   "execution_count": 3,
   "metadata": {},
   "outputs": [],
   "source": [
    "riskFactors.sample[riskFactors.sample$race_eth==9,]$race_eth <- NA\n",
    "riskFactors.sample[riskFactors.sample$first_degree_hx==9,]$first_degree_hx <- NA\n",
    "riskFactors.sample[riskFactors.sample$age_menarche==9,]$age_menarche <- NA\n",
    "riskFactors.sample[riskFactors.sample$age_first_birth==9,]$age_first_birth <- NA\n",
    "riskFactors.sample[riskFactors.sample$BIRADS_breast_density==9,]$BIRADS_breast_density <- NA\n",
    "riskFactors.sample[riskFactors.sample$current_hrt==9,]$current_hrt <- NA\n",
    "riskFactors.sample[riskFactors.sample$menopaus==9,]$menopaus <- NA\n",
    "riskFactors.sample[riskFactors.sample$bmi_group==9,]$bmi_group <- NA\n",
    "riskFactors.sample[riskFactors.sample$biophx==9,]$biophx <- NA\n",
    "riskFactors.sample[riskFactors.sample$breast_cancer_history==9,]$breast_cancer_history <- NA"
   ]
  },
  {
   "cell_type": "code",
   "execution_count": 4,
   "metadata": {},
   "outputs": [],
   "source": [
    "#Aquí iré transformando en factores las columnas que vaya requiriendo\n",
    "riskFactors.sample$first_degree_hx <- factor(riskFactors.sample$first_degree_hx,labels = c(\"NO\",\"SI\"))\n",
    "riskFactors.sample$age_group_5_years <- factor(riskFactors.sample$age_group_5_years, labels = c(\"Edad 18-29\",\"Edad 30-34\",\"Edad 35-39\",\"Edad 40-44\",\"Edad 45-49\",\"Edad 50-54\",\"Edad 55-59\",\"Edad 60-64\",\"Edad 65-69\",\"Edad 70-74\",\"Edad 75-79\",\"Edad 80-84\",\"Edad ≥85\"))\n",
    "riskFactors.sample$BIRADS_breast_density <- factor(riskFactors.sample$BIRADS_breast_density, labels = c(\"Almost entirely fat\", \"Scattered fibroglandular densities\", \"Heterogeneously dense\", \"Extremely dense\"))\n",
    "riskFactors.sample$race_eth <- factor(riskFactors.sample$race_eth, labels = c(\"Non-Hispanic white\",\"Non-Hispanic black\",\"Asian/Pacific Islander\",\"Native American\",\"Hispanic\",\"Other/mixed\"))"
   ]
  },
  {
   "cell_type": "code",
   "execution_count": 5,
   "metadata": {},
   "outputs": [
    {
     "data": {
      "text/html": [
       "<table>\n",
       "<thead><tr><th></th><th scope=col>year</th><th scope=col>age_group_5_years</th><th scope=col>race_eth</th><th scope=col>first_degree_hx</th><th scope=col>age_menarche</th><th scope=col>age_first_birth</th><th scope=col>BIRADS_breast_density</th><th scope=col>current_hrt</th><th scope=col>menopaus</th><th scope=col>bmi_group</th><th scope=col>biophx</th><th scope=col>breast_cancer_history</th><th scope=col>count</th></tr></thead>\n",
       "<tbody>\n",
       "\t<tr><th scope=row>792997.89</th><td>2006                              </td><td>Edad 60-64                        </td><td>NA                                </td><td>NA                                </td><td>NA                                </td><td>NA                                </td><td>Scattered fibroglandular densities</td><td>NA                                </td><td>2                                 </td><td>NA                                </td><td>0                                 </td><td>0                                 </td><td>218                               </td></tr>\n",
       "\t<tr><th scope=row>986739.194</th><td>2008                              </td><td>Edad 55-59                        </td><td>Non-Hispanic black                </td><td>NO                                </td><td>NA                                </td><td>NA                                </td><td>Scattered fibroglandular densities</td><td> 0                                </td><td>2                                 </td><td>NA                                </td><td>0                                 </td><td>0                                 </td><td>771                               </td></tr>\n",
       "\t<tr><th scope=row>845393.799</th><td>2007                              </td><td>Edad 45-49                        </td><td>Non-Hispanic white                </td><td>NO                                </td><td>NA                                </td><td>NA                                </td><td>Scattered fibroglandular densities</td><td> 0                                </td><td>1                                 </td><td>NA                                </td><td>0                                 </td><td>0                                 </td><td>877                               </td></tr>\n",
       "\t<tr><th scope=row>996805.11</th><td>2008                              </td><td>Edad 60-64                        </td><td>Non-Hispanic white                </td><td>SI                                </td><td> 1                                </td><td> 1                                </td><td>Scattered fibroglandular densities</td><td> 0                                </td><td>2                                 </td><td> 2                                </td><td>0                                 </td><td>0                                 </td><td> 32                               </td></tr>\n",
       "\t<tr><th scope=row>481428.71</th><td>2004                              </td><td>Edad 35-39                        </td><td>Non-Hispanic white                </td><td>NO                                </td><td>NA                                </td><td>NA                                </td><td>Heterogeneously dense             </td><td> 0                                </td><td>1                                 </td><td> 2                                </td><td>0                                 </td><td>0                                 </td><td> 97                               </td></tr>\n",
       "\t<tr><th scope=row>169906.1</th><td>2001                              </td><td>Edad 50-54                        </td><td>Hispanic                          </td><td>NO                                </td><td>NA                                </td><td>NA                                </td><td>Almost entirely fat               </td><td> 1                                </td><td>2                                 </td><td> 3                                </td><td>0                                 </td><td>0                                 </td><td> 11                               </td></tr>\n",
       "</tbody>\n",
       "</table>\n"
      ],
      "text/latex": [
       "\\begin{tabular}{r|lllllllllllll}\n",
       "  & year & age\\_group\\_5\\_years & race\\_eth & first\\_degree\\_hx & age\\_menarche & age\\_first\\_birth & BIRADS\\_breast\\_density & current\\_hrt & menopaus & bmi\\_group & biophx & breast\\_cancer\\_history & count\\\\\n",
       "\\hline\n",
       "\t792997.89 & 2006                               & Edad 60-64                         & NA                                 & NA                                 & NA                                 & NA                                 & Scattered fibroglandular densities & NA                                 & 2                                  & NA                                 & 0                                  & 0                                  & 218                               \\\\\n",
       "\t986739.194 & 2008                               & Edad 55-59                         & Non-Hispanic black                 & NO                                 & NA                                 & NA                                 & Scattered fibroglandular densities &  0                                 & 2                                  & NA                                 & 0                                  & 0                                  & 771                               \\\\\n",
       "\t845393.799 & 2007                               & Edad 45-49                         & Non-Hispanic white                 & NO                                 & NA                                 & NA                                 & Scattered fibroglandular densities &  0                                 & 1                                  & NA                                 & 0                                  & 0                                  & 877                               \\\\\n",
       "\t996805.11 & 2008                               & Edad 60-64                         & Non-Hispanic white                 & SI                                 &  1                                 &  1                                 & Scattered fibroglandular densities &  0                                 & 2                                  &  2                                 & 0                                  & 0                                  &  32                               \\\\\n",
       "\t481428.71 & 2004                               & Edad 35-39                         & Non-Hispanic white                 & NO                                 & NA                                 & NA                                 & Heterogeneously dense              &  0                                 & 1                                  &  2                                 & 0                                  & 0                                  &  97                               \\\\\n",
       "\t169906.1 & 2001                               & Edad 50-54                         & Hispanic                           & NO                                 & NA                                 & NA                                 & Almost entirely fat                &  1                                 & 2                                  &  3                                 & 0                                  & 0                                  &  11                               \\\\\n",
       "\\end{tabular}\n"
      ],
      "text/markdown": [
       "\n",
       "| <!--/--> | year | age_group_5_years | race_eth | first_degree_hx | age_menarche | age_first_birth | BIRADS_breast_density | current_hrt | menopaus | bmi_group | biophx | breast_cancer_history | count | \n",
       "|---|---|---|---|---|---|\n",
       "| 792997.89 | 2006                               | Edad 60-64                         | NA                                 | NA                                 | NA                                 | NA                                 | Scattered fibroglandular densities | NA                                 | 2                                  | NA                                 | 0                                  | 0                                  | 218                                | \n",
       "| 986739.194 | 2008                               | Edad 55-59                         | Non-Hispanic black                 | NO                                 | NA                                 | NA                                 | Scattered fibroglandular densities |  0                                 | 2                                  | NA                                 | 0                                  | 0                                  | 771                                | \n",
       "| 845393.799 | 2007                               | Edad 45-49                         | Non-Hispanic white                 | NO                                 | NA                                 | NA                                 | Scattered fibroglandular densities |  0                                 | 1                                  | NA                                 | 0                                  | 0                                  | 877                                | \n",
       "| 996805.11 | 2008                               | Edad 60-64                         | Non-Hispanic white                 | SI                                 |  1                                 |  1                                 | Scattered fibroglandular densities |  0                                 | 2                                  |  2                                 | 0                                  | 0                                  |  32                                | \n",
       "| 481428.71 | 2004                               | Edad 35-39                         | Non-Hispanic white                 | NO                                 | NA                                 | NA                                 | Heterogeneously dense              |  0                                 | 1                                  |  2                                 | 0                                  | 0                                  |  97                                | \n",
       "| 169906.1 | 2001                               | Edad 50-54                         | Hispanic                           | NO                                 | NA                                 | NA                                 | Almost entirely fat                |  1                                 | 2                                  |  3                                 | 0                                  | 0                                  |  11                                | \n",
       "\n",
       "\n"
      ],
      "text/plain": [
       "           year age_group_5_years race_eth           first_degree_hx\n",
       "792997.89  2006 Edad 60-64        NA                 NA             \n",
       "986739.194 2008 Edad 55-59        Non-Hispanic black NO             \n",
       "845393.799 2007 Edad 45-49        Non-Hispanic white NO             \n",
       "996805.11  2008 Edad 60-64        Non-Hispanic white SI             \n",
       "481428.71  2004 Edad 35-39        Non-Hispanic white NO             \n",
       "169906.1   2001 Edad 50-54        Hispanic           NO             \n",
       "           age_menarche age_first_birth BIRADS_breast_density             \n",
       "792997.89  NA           NA              Scattered fibroglandular densities\n",
       "986739.194 NA           NA              Scattered fibroglandular densities\n",
       "845393.799 NA           NA              Scattered fibroglandular densities\n",
       "996805.11   1            1              Scattered fibroglandular densities\n",
       "481428.71  NA           NA              Heterogeneously dense             \n",
       "169906.1   NA           NA              Almost entirely fat               \n",
       "           current_hrt menopaus bmi_group biophx breast_cancer_history count\n",
       "792997.89  NA          2        NA        0      0                     218  \n",
       "986739.194  0          2        NA        0      0                     771  \n",
       "845393.799  0          1        NA        0      0                     877  \n",
       "996805.11   0          2         2        0      0                      32  \n",
       "481428.71   0          1         2        0      0                      97  \n",
       "169906.1    1          2         3        0      0                      11  "
      ]
     },
     "metadata": {},
     "output_type": "display_data"
    }
   ],
   "source": [
    "head(riskFactors.sample)"
   ]
  },
  {
   "cell_type": "markdown",
   "metadata": {},
   "source": [
    "#### Edad y Antecedentes familiares"
   ]
  },
  {
   "cell_type": "markdown",
   "metadata": {},
   "source": [
    "Creamos una nueva columna con la edad estimada para un posterior análisis"
   ]
  },
  {
   "cell_type": "markdown",
   "metadata": {},
   "source": [
    "Representa en un diagrama de cajas cómo varía la **edad de aparición del cancer** en función de si ha habido **antecedentes familiares** o no.\n",
    "Ayuda:\n",
    "- Hay que crear una nueva columna con la edad estimada de cada rango."
   ]
  },
  {
   "cell_type": "code",
   "execution_count": 6,
   "metadata": {},
   "outputs": [],
   "source": [
    "#Para calcular la edad estimada del rango mayores de 85 voy a usar el fichero de la población española, para estimar \n",
    "#la media de edad de mujeres mayores de 85\n",
    "poblacion<-read.csv(\"../relaciones2variables/9663c.csv\",skip=6,\n",
    "                    fileEncoding=\"ISO-8859-1\",header=F,col.names=c(\"edadTxt\",\"Total\",\"Hombres\",\"Mujeres\",\"\"))\n",
    "poblacion<-poblacion[1:105,]\n",
    "poblacion$edad<-0:104\n",
    "mayores85 <- subset(poblacion, poblacion$edad>84)\n",
    "mujeresMayores85 <- mayores85[,c(\"edad\",\"Mujeres\")]\n",
    "mujeresMayores85$fi <- mujeresMayores85$edad * mujeresMayores85$Mujeres\n",
    "sumas <- colSums(mujeresMayores85)\n",
    "edadMediaMujeresMayores85 <- sumas[3] / sumas[2]\n",
    "mediaMujeresMayores85 <- as.numeric(edadMediaMujeresMayores85)"
   ]
  },
  {
   "cell_type": "code",
   "execution_count": 7,
   "metadata": {},
   "outputs": [
    {
     "data": {
      "text/html": [
       "<table>\n",
       "<thead><tr><th></th><th scope=col>year</th><th scope=col>age_group_5_years</th><th scope=col>race_eth</th><th scope=col>first_degree_hx</th><th scope=col>age_menarche</th><th scope=col>age_first_birth</th><th scope=col>BIRADS_breast_density</th><th scope=col>current_hrt</th><th scope=col>menopaus</th><th scope=col>bmi_group</th><th scope=col>biophx</th><th scope=col>breast_cancer_history</th><th scope=col>count</th><th scope=col>edad</th></tr></thead>\n",
       "<tbody>\n",
       "\t<tr><th scope=row>792997.89</th><td>2006                              </td><td>Edad 60-64                        </td><td>NA                                </td><td>NA                                </td><td>NA                                </td><td>NA                                </td><td>Scattered fibroglandular densities</td><td>NA                                </td><td> 2                                </td><td>NA                                </td><td> 0                                </td><td> 0                                </td><td> 218                              </td><td>62                                </td></tr>\n",
       "\t<tr><th scope=row>986739.194</th><td>2008                              </td><td>Edad 55-59                        </td><td>Non-Hispanic black                </td><td>NO                                </td><td>NA                                </td><td>NA                                </td><td>Scattered fibroglandular densities</td><td> 0                                </td><td> 2                                </td><td>NA                                </td><td> 0                                </td><td> 0                                </td><td> 771                              </td><td>57                                </td></tr>\n",
       "\t<tr><th scope=row>845393.799</th><td>2007                              </td><td>Edad 45-49                        </td><td>Non-Hispanic white                </td><td>NO                                </td><td>NA                                </td><td>NA                                </td><td>Scattered fibroglandular densities</td><td> 0                                </td><td> 1                                </td><td>NA                                </td><td> 0                                </td><td> 0                                </td><td> 877                              </td><td>47                                </td></tr>\n",
       "\t<tr><th scope=row>996805.11</th><td>2008                              </td><td>Edad 60-64                        </td><td>Non-Hispanic white                </td><td>SI                                </td><td> 1                                </td><td> 1                                </td><td>Scattered fibroglandular densities</td><td> 0                                </td><td> 2                                </td><td> 2                                </td><td> 0                                </td><td> 0                                </td><td>  32                              </td><td>62                                </td></tr>\n",
       "\t<tr><th scope=row>481428.71</th><td>2004                              </td><td>Edad 35-39                        </td><td>Non-Hispanic white                </td><td>NO                                </td><td>NA                                </td><td>NA                                </td><td>Heterogeneously dense             </td><td> 0                                </td><td> 1                                </td><td> 2                                </td><td> 0                                </td><td> 0                                </td><td>  97                              </td><td>37                                </td></tr>\n",
       "\t<tr><th scope=row>169906.1</th><td>2001                              </td><td>Edad 50-54                        </td><td>Hispanic                          </td><td>NO                                </td><td>NA                                </td><td>NA                                </td><td>Almost entirely fat               </td><td> 1                                </td><td> 2                                </td><td> 3                                </td><td> 0                                </td><td> 0                                </td><td>  11                              </td><td>52                                </td></tr>\n",
       "\t<tr><th scope=row>333718.105</th><td>2002                              </td><td>Edad 70-74                        </td><td>Non-Hispanic white                </td><td>NO                                </td><td>NA                                </td><td>NA                                </td><td>NA                                </td><td> 0                                </td><td> 2                                </td><td> 2                                </td><td> 0                                </td><td> 0                                </td><td> 148                              </td><td>72                                </td></tr>\n",
       "\t<tr><th scope=row>537807.1888</th><td>2004                              </td><td>Edad 50-54                        </td><td>NA                                </td><td>NA                                </td><td>NA                                </td><td>NA                                </td><td>NA                                </td><td>NA                                </td><td>NA                                </td><td>NA                                </td><td>NA                                </td><td>NA                                </td><td>5518                              </td><td>52                                </td></tr>\n",
       "\t<tr><th scope=row>801853.11</th><td>2006                              </td><td>Edad 65-69                        </td><td>NA                                </td><td>NO                                </td><td>NA                                </td><td> 1                                </td><td>Almost entirely fat               </td><td> 0                                </td><td> 2                                </td><td>NA                                </td><td> 0                                </td><td> 0                                </td><td>  24                              </td><td>67                                </td></tr>\n",
       "\t<tr><th scope=row>1126577</th><td>2009                              </td><td>Edad 70-74                        </td><td>Non-Hispanic white                </td><td>NA                                </td><td> 2                                </td><td>NA                                </td><td>Scattered fibroglandular densities</td><td> 0                                </td><td> 2                                </td><td> 2                                </td><td> 0                                </td><td> 0                                </td><td>   1                              </td><td>72                                </td></tr>\n",
       "</tbody>\n",
       "</table>\n"
      ],
      "text/latex": [
       "\\begin{tabular}{r|llllllllllllll}\n",
       "  & year & age\\_group\\_5\\_years & race\\_eth & first\\_degree\\_hx & age\\_menarche & age\\_first\\_birth & BIRADS\\_breast\\_density & current\\_hrt & menopaus & bmi\\_group & biophx & breast\\_cancer\\_history & count & edad\\\\\n",
       "\\hline\n",
       "\t792997.89 & 2006                               & Edad 60-64                         & NA                                 & NA                                 & NA                                 & NA                                 & Scattered fibroglandular densities & NA                                 &  2                                 & NA                                 &  0                                 &  0                                 &  218                               & 62                                \\\\\n",
       "\t986739.194 & 2008                               & Edad 55-59                         & Non-Hispanic black                 & NO                                 & NA                                 & NA                                 & Scattered fibroglandular densities &  0                                 &  2                                 & NA                                 &  0                                 &  0                                 &  771                               & 57                                \\\\\n",
       "\t845393.799 & 2007                               & Edad 45-49                         & Non-Hispanic white                 & NO                                 & NA                                 & NA                                 & Scattered fibroglandular densities &  0                                 &  1                                 & NA                                 &  0                                 &  0                                 &  877                               & 47                                \\\\\n",
       "\t996805.11 & 2008                               & Edad 60-64                         & Non-Hispanic white                 & SI                                 &  1                                 &  1                                 & Scattered fibroglandular densities &  0                                 &  2                                 &  2                                 &  0                                 &  0                                 &   32                               & 62                                \\\\\n",
       "\t481428.71 & 2004                               & Edad 35-39                         & Non-Hispanic white                 & NO                                 & NA                                 & NA                                 & Heterogeneously dense              &  0                                 &  1                                 &  2                                 &  0                                 &  0                                 &   97                               & 37                                \\\\\n",
       "\t169906.1 & 2001                               & Edad 50-54                         & Hispanic                           & NO                                 & NA                                 & NA                                 & Almost entirely fat                &  1                                 &  2                                 &  3                                 &  0                                 &  0                                 &   11                               & 52                                \\\\\n",
       "\t333718.105 & 2002                               & Edad 70-74                         & Non-Hispanic white                 & NO                                 & NA                                 & NA                                 & NA                                 &  0                                 &  2                                 &  2                                 &  0                                 &  0                                 &  148                               & 72                                \\\\\n",
       "\t537807.1888 & 2004                               & Edad 50-54                         & NA                                 & NA                                 & NA                                 & NA                                 & NA                                 & NA                                 & NA                                 & NA                                 & NA                                 & NA                                 & 5518                               & 52                                \\\\\n",
       "\t801853.11 & 2006                               & Edad 65-69                         & NA                                 & NO                                 & NA                                 &  1                                 & Almost entirely fat                &  0                                 &  2                                 & NA                                 &  0                                 &  0                                 &   24                               & 67                                \\\\\n",
       "\t1126577 & 2009                               & Edad 70-74                         & Non-Hispanic white                 & NA                                 &  2                                 & NA                                 & Scattered fibroglandular densities &  0                                 &  2                                 &  2                                 &  0                                 &  0                                 &    1                               & 72                                \\\\\n",
       "\\end{tabular}\n"
      ],
      "text/markdown": [
       "\n",
       "| <!--/--> | year | age_group_5_years | race_eth | first_degree_hx | age_menarche | age_first_birth | BIRADS_breast_density | current_hrt | menopaus | bmi_group | biophx | breast_cancer_history | count | edad | \n",
       "|---|---|---|---|---|---|---|---|---|---|\n",
       "| 792997.89 | 2006                               | Edad 60-64                         | NA                                 | NA                                 | NA                                 | NA                                 | Scattered fibroglandular densities | NA                                 |  2                                 | NA                                 |  0                                 |  0                                 |  218                               | 62                                 | \n",
       "| 986739.194 | 2008                               | Edad 55-59                         | Non-Hispanic black                 | NO                                 | NA                                 | NA                                 | Scattered fibroglandular densities |  0                                 |  2                                 | NA                                 |  0                                 |  0                                 |  771                               | 57                                 | \n",
       "| 845393.799 | 2007                               | Edad 45-49                         | Non-Hispanic white                 | NO                                 | NA                                 | NA                                 | Scattered fibroglandular densities |  0                                 |  1                                 | NA                                 |  0                                 |  0                                 |  877                               | 47                                 | \n",
       "| 996805.11 | 2008                               | Edad 60-64                         | Non-Hispanic white                 | SI                                 |  1                                 |  1                                 | Scattered fibroglandular densities |  0                                 |  2                                 |  2                                 |  0                                 |  0                                 |   32                               | 62                                 | \n",
       "| 481428.71 | 2004                               | Edad 35-39                         | Non-Hispanic white                 | NO                                 | NA                                 | NA                                 | Heterogeneously dense              |  0                                 |  1                                 |  2                                 |  0                                 |  0                                 |   97                               | 37                                 | \n",
       "| 169906.1 | 2001                               | Edad 50-54                         | Hispanic                           | NO                                 | NA                                 | NA                                 | Almost entirely fat                |  1                                 |  2                                 |  3                                 |  0                                 |  0                                 |   11                               | 52                                 | \n",
       "| 333718.105 | 2002                               | Edad 70-74                         | Non-Hispanic white                 | NO                                 | NA                                 | NA                                 | NA                                 |  0                                 |  2                                 |  2                                 |  0                                 |  0                                 |  148                               | 72                                 | \n",
       "| 537807.1888 | 2004                               | Edad 50-54                         | NA                                 | NA                                 | NA                                 | NA                                 | NA                                 | NA                                 | NA                                 | NA                                 | NA                                 | NA                                 | 5518                               | 52                                 | \n",
       "| 801853.11 | 2006                               | Edad 65-69                         | NA                                 | NO                                 | NA                                 |  1                                 | Almost entirely fat                |  0                                 |  2                                 | NA                                 |  0                                 |  0                                 |   24                               | 67                                 | \n",
       "| 1126577 | 2009                               | Edad 70-74                         | Non-Hispanic white                 | NA                                 |  2                                 | NA                                 | Scattered fibroglandular densities |  0                                 |  2                                 |  2                                 |  0                                 |  0                                 |    1                               | 72                                 | \n",
       "\n",
       "\n"
      ],
      "text/plain": [
       "            year age_group_5_years race_eth           first_degree_hx\n",
       "792997.89   2006 Edad 60-64        NA                 NA             \n",
       "986739.194  2008 Edad 55-59        Non-Hispanic black NO             \n",
       "845393.799  2007 Edad 45-49        Non-Hispanic white NO             \n",
       "996805.11   2008 Edad 60-64        Non-Hispanic white SI             \n",
       "481428.71   2004 Edad 35-39        Non-Hispanic white NO             \n",
       "169906.1    2001 Edad 50-54        Hispanic           NO             \n",
       "333718.105  2002 Edad 70-74        Non-Hispanic white NO             \n",
       "537807.1888 2004 Edad 50-54        NA                 NA             \n",
       "801853.11   2006 Edad 65-69        NA                 NO             \n",
       "1126577     2009 Edad 70-74        Non-Hispanic white NA             \n",
       "            age_menarche age_first_birth BIRADS_breast_density             \n",
       "792997.89   NA           NA              Scattered fibroglandular densities\n",
       "986739.194  NA           NA              Scattered fibroglandular densities\n",
       "845393.799  NA           NA              Scattered fibroglandular densities\n",
       "996805.11    1            1              Scattered fibroglandular densities\n",
       "481428.71   NA           NA              Heterogeneously dense             \n",
       "169906.1    NA           NA              Almost entirely fat               \n",
       "333718.105  NA           NA              NA                                \n",
       "537807.1888 NA           NA              NA                                \n",
       "801853.11   NA            1              Almost entirely fat               \n",
       "1126577      2           NA              Scattered fibroglandular densities\n",
       "            current_hrt menopaus bmi_group biophx breast_cancer_history count\n",
       "792997.89   NA           2       NA         0      0                     218 \n",
       "986739.194   0           2       NA         0      0                     771 \n",
       "845393.799   0           1       NA         0      0                     877 \n",
       "996805.11    0           2        2         0      0                      32 \n",
       "481428.71    0           1        2         0      0                      97 \n",
       "169906.1     1           2        3         0      0                      11 \n",
       "333718.105   0           2        2         0      0                     148 \n",
       "537807.1888 NA          NA       NA        NA     NA                    5518 \n",
       "801853.11    0           2       NA         0      0                      24 \n",
       "1126577      0           2        2         0      0                       1 \n",
       "            edad\n",
       "792997.89   62  \n",
       "986739.194  57  \n",
       "845393.799  47  \n",
       "996805.11   62  \n",
       "481428.71   37  \n",
       "169906.1    52  \n",
       "333718.105  72  \n",
       "537807.1888 52  \n",
       "801853.11   67  \n",
       "1126577     72  "
      ]
     },
     "metadata": {},
     "output_type": "display_data"
    }
   ],
   "source": [
    "calcularEdadEstimada <- function (X) {\n",
    "   edadEstimada <- c()\n",
    "   for (xi in X) {\n",
    "       if (xi == \"Edad 18-29\") {\n",
    "           edadEstimada <- c(edadEstimada,floor(mean(c(18,29))))\n",
    "       } else if (xi == \"Edad 30-34\") {\n",
    "           edadEstimada <- c(edadEstimada,floor(mean(c(30,34))))\n",
    "       } else if (xi == \"Edad 35-39\") {\n",
    "           edadEstimada <- c(edadEstimada,floor(mean(c(35,39))))\n",
    "       } else if (xi == \"Edad 40-44\") {\n",
    "           edadEstimada <- c(edadEstimada,floor(mean(c(40,44))))\n",
    "       } else if (xi == \"Edad 45-49\") {\n",
    "           edadEstimada <- c(edadEstimada,floor(mean(c(45,49))))\n",
    "       } else if (xi == \"Edad 50-54\") {\n",
    "           edadEstimada <- c(edadEstimada,floor(mean(c(50,54))))\n",
    "       } else if (xi == \"Edad 55-59\") {\n",
    "           edadEstimada <- c(edadEstimada,floor(mean(c(55,59))))\n",
    "       } else if (xi == \"Edad 60-64\") {\n",
    "           edadEstimada <- c(edadEstimada,floor(mean(c(60,64))))\n",
    "       } else if (xi == \"Edad 65-69\") {\n",
    "           edadEstimada <- c(edadEstimada,floor(mean(c(65,69))))\n",
    "       } else if (xi == \"Edad 70-74\") {\n",
    "           edadEstimada <- c(edadEstimada,floor(mean(c(70,74))))\n",
    "       } else if (xi == \"Edad 75-79\") {\n",
    "           edadEstimada <- c(edadEstimada,floor(mean(c(75,79))))\n",
    "       } else if (xi == \"Edad 80-84\") {\n",
    "           edadEstimada <- c(edadEstimada,floor(mean(c(80,84))))\n",
    "       } else if (xi == \"Edad ≥85\") {\n",
    "           edadEstimada <- c(edadEstimada,floor(mediaMujeresMayores85))\n",
    "       }\n",
    "   }\n",
    "   return (edadEstimada)\n",
    "}\n",
    "riskFactors.sample$edad <- calcularEdadEstimada(riskFactors.sample$age_group_5_years)\n",
    "head(riskFactors.sample,10)"
   ]
  },
  {
   "cell_type": "code",
   "execution_count": 8,
   "metadata": {},
   "outputs": [
    {
     "data": {},
     "metadata": {},
     "output_type": "display_data"
    },
    {
     "data": {
      "image/png": "[encoded data removed]",
      "text/plain": [
       "plot without title"
      ]
     },
     "metadata": {},
     "output_type": "display_data"
    }
   ],
   "source": [
    "library(ggplot2)\n",
    "riskFactorsByAntecedentes <- subset(riskFactors.sample,!is.na(first_degree_hx))\n",
    "ggplot(riskFactorsByAntecedentes,aes(x=first_degree_hx,y=edad,color=first_degree_hx))+geom_boxplot()+theme_bw()"
   ]
  },
  {
   "cell_type": "markdown",
   "metadata": {},
   "source": [
    "¿Existe una diferencia estadística significativa entre la edad de aparición del cancer y si hay antecedentes familiares? ¿Que test usarías para comprobarlo?"
   ]
  },
  {
   "cell_type": "code",
   "execution_count": 9,
   "metadata": {},
   "outputs": [
    {
     "data": {
      "text/plain": [
       "\n",
       "\tShapiro-Wilk normality test\n",
       "\n",
       "data:  riskFactorsByAntecedentes$edad[riskFactorsByAntecedentes$first_degree_hx ==     \"SI\"]\n",
       "W = 0.97024, p-value = 4.271e-11\n"
      ]
     },
     "metadata": {},
     "output_type": "display_data"
    },
    {
     "data": {
      "text/plain": [
       "\n",
       "\tShapiro-Wilk normality test\n",
       "\n",
       "data:  riskFactorsByAntecedentes$edad[riskFactorsByAntecedentes$first_degree_hx ==     \"NO\"]\n",
       "W = 0.96009, p-value < 2.2e-16\n"
      ]
     },
     "metadata": {},
     "output_type": "display_data"
    }
   ],
   "source": [
    "#A simple vista viendo el gráfico anterior parece que no existe diferencia, vamos a comprobarlo con un test estadístico.\n",
    "#¿Siguen las poblaciones una distribución normal?\n",
    "shapiro.test(riskFactorsByAntecedentes$edad[riskFactorsByAntecedentes$first_degree_hx==\"SI\"])\n",
    "shapiro.test(riskFactorsByAntecedentes$edad[riskFactorsByAntecedentes$first_degree_hx==\"NO\"])"
   ]
  },
  {
   "cell_type": "markdown",
   "metadata": {},
   "source": [
    "El p-valor tan bajo me indica que no siguen una distribución normal, por lo que debo aplicar el test de Wilcoxon-Mann-Whitney"
   ]
  },
  {
   "cell_type": "code",
   "execution_count": 10,
   "metadata": {},
   "outputs": [
    {
     "data": {
      "text/plain": [
       "\n",
       "\tWilcoxon rank sum test with continuity correction\n",
       "\n",
       "data:  riskFactorsByAntecedentes$edad by riskFactorsByAntecedentes$first_degree_hx\n",
       "W = 1239200, p-value = 2.339e-06\n",
       "alternative hypothesis: true location shift is not equal to 0\n"
      ]
     },
     "metadata": {},
     "output_type": "display_data"
    }
   ],
   "source": [
    "wilcox.test(riskFactorsByAntecedentes$edad ~ riskFactorsByAntecedentes$first_degree_hx, data=riskFactorsByAntecedentes) "
   ]
  },
  {
   "cell_type": "markdown",
   "metadata": {},
   "source": [
    "El valor tan bajo de p-valor nos obliga a rechazar la hipótesis nula y podemos asumir que la edad de aparición del cáncer no tiene relación con si se han tenido antecedentes o no "
   ]
  },
  {
   "cell_type": "markdown",
   "metadata": {},
   "source": [
    "Dibuja la curva de densidad de probabilidad de cómo varía la edad de aparición del cancer en función de si ha habido antecedentes familiares o no."
   ]
  },
  {
   "cell_type": "code",
   "execution_count": 11,
   "metadata": {},
   "outputs": [
    {
     "data": {},
     "metadata": {},
     "output_type": "display_data"
    },
    {
     "data": {
      "image/png": "[encoded data removed]",
      "text/plain": [
       "plot without title"
      ]
     },
     "metadata": {},
     "output_type": "display_data"
    }
   ],
   "source": [
    "ggplot(data=riskFactorsByAntecedentes, aes(x=riskFactorsByAntecedentes$edad,color=riskFactorsByAntecedentes$first_degree_hx)) + \n",
    "    geom_density()+labs(x=\"Edad\", color=\"Antecedentes familiares\")"
   ]
  },
  {
   "cell_type": "markdown",
   "metadata": {},
   "source": [
    "#### Edad y BIRADS"
   ]
  },
  {
   "cell_type": "markdown",
   "metadata": {},
   "source": [
    "Representa en un diagrama de cajas cómo varía la edad de aparición del cancer en función de la densidad del cancder (BIRADS)."
   ]
  },
  {
   "cell_type": "code",
   "execution_count": 12,
   "metadata": {},
   "outputs": [
    {
     "data": {},
     "metadata": {},
     "output_type": "display_data"
    },
    {
     "data": {
      "image/png": "[encoded data removed]",
      "text/plain": [
       "plot without title"
      ]
     },
     "metadata": {},
     "output_type": "display_data"
    }
   ],
   "source": [
    "riskFactorsByDensidad <- subset(riskFactors.sample,!is.na(BIRADS_breast_density))\n",
    "ggplot(riskFactorsByDensidad,aes(x=BIRADS_breast_density,y=edad,color=BIRADS_breast_density))+geom_boxplot()+\n",
    "labs(x=\"Densidad\", color=\"Densidad\") + theme_bw()"
   ]
  },
  {
   "cell_type": "markdown",
   "metadata": {},
   "source": [
    "¿Existe una evidencia estadística significativa para decir que la edad en la que se detecta el cancer depende de la densidad del cancer (BIRADS)?\n",
    "\n",
    "¿Que test habría que aplicar?"
   ]
  },
  {
   "cell_type": "markdown",
   "metadata": {},
   "source": [
    "Al igual que en el caso anterior, compruebo primero si siguen una distribución uniforme."
   ]
  },
  {
   "cell_type": "code",
   "execution_count": 13,
   "metadata": {},
   "outputs": [
    {
     "data": {
      "text/plain": [
       "\n",
       "\tShapiro-Wilk normality test\n",
       "\n",
       "data:  riskFactorsByDensidad$edad[riskFactorsByDensidad$BIRADS_breast_density ==     \"Almost entirely fat\"]\n",
       "W = 0.97824, p-value = 0.0001734\n"
      ]
     },
     "metadata": {},
     "output_type": "display_data"
    },
    {
     "data": {
      "text/plain": [
       "\n",
       "\tShapiro-Wilk normality test\n",
       "\n",
       "data:  riskFactorsByDensidad$edad[riskFactorsByDensidad$BIRADS_breast_density ==     \"Scattered fibroglandular densities\"]\n",
       "W = 0.96399, p-value < 2.2e-16\n"
      ]
     },
     "metadata": {},
     "output_type": "display_data"
    },
    {
     "data": {
      "text/plain": [
       "\n",
       "\tShapiro-Wilk normality test\n",
       "\n",
       "data:  riskFactorsByDensidad$edad[riskFactorsByDensidad$BIRADS_breast_density ==     \"Heterogeneously dense\"]\n",
       "W = 0.95472, p-value < 2.2e-16\n"
      ]
     },
     "metadata": {},
     "output_type": "display_data"
    },
    {
     "data": {
      "text/plain": [
       "\n",
       "\tShapiro-Wilk normality test\n",
       "\n",
       "data:  riskFactorsByDensidad$edad[riskFactorsByDensidad$BIRADS_breast_density ==     \"Extremely dense\"]\n",
       "W = 0.93345, p-value = 2.456e-09\n"
      ]
     },
     "metadata": {},
     "output_type": "display_data"
    }
   ],
   "source": [
    "shapiro.test(riskFactorsByDensidad$edad[riskFactorsByDensidad$BIRADS_breast_density==\"Almost entirely fat\"])\n",
    "shapiro.test(riskFactorsByDensidad$edad[riskFactorsByDensidad$BIRADS_breast_density==\"Scattered fibroglandular densities\"])\n",
    "shapiro.test(riskFactorsByDensidad$edad[riskFactorsByDensidad$BIRADS_breast_density==\"Heterogeneously dense\"])\n",
    "shapiro.test(riskFactorsByDensidad$edad[riskFactorsByDensidad$BIRADS_breast_density==\"Extremely dense\"])"
   ]
  },
  {
   "cell_type": "markdown",
   "metadata": {},
   "source": [
    "Los valores tan bajos de p-value me indican que no siguen una uniforme, así que debo aplicar test de Kruskal-Wallis, que se utiliza cuando en ANOVA no cumplimos la normalidad de los datos, cuando las muestras no vienen de una distribución uniforme."
   ]
  },
  {
   "cell_type": "code",
   "execution_count": 14,
   "metadata": {},
   "outputs": [
    {
     "data": {
      "text/plain": [
       "\n",
       "\tKruskal-Wallis rank sum test\n",
       "\n",
       "data:  riskFactorsByDensidad$edad by riskFactorsByDensidad$BIRADS_breast_density\n",
       "Kruskal-Wallis chi-squared = 156.19, df = 3, p-value < 2.2e-16\n"
      ]
     },
     "metadata": {},
     "output_type": "display_data"
    }
   ],
   "source": [
    "kruskal.test( riskFactorsByDensidad$edad ~ riskFactorsByDensidad$BIRADS_breast_density, data=riskFactorsByDensidad)"
   ]
  },
  {
   "cell_type": "markdown",
   "metadata": {},
   "source": [
    "El valor tan bajo de p-valor me indica que puedo rechazar la hipótesis nula y concluir que las medias no son iguales"
   ]
  },
  {
   "cell_type": "markdown",
   "metadata": {},
   "source": [
    "#### Tablas de contingencia: BIRADS"
   ]
  },
  {
   "cell_type": "markdown",
   "metadata": {},
   "source": [
    "¿Todos los  tipos de cancer (BIRADS) son igual de probables? ¿Con que test lo comprobarías?"
   ]
  },
  {
   "cell_type": "code",
   "execution_count": 15,
   "metadata": {},
   "outputs": [
    {
     "data": {
      "text/plain": [
       "\n",
       "\tChi-squared test for given probabilities\n",
       "\n",
       "data:  tabla\n",
       "X-squared = 1816.3, df = 3, p-value < 2.2e-16\n"
      ]
     },
     "metadata": {},
     "output_type": "display_data"
    }
   ],
   "source": [
    "#Comprobamos si todos los tipos de cancer son equiprobables con el test de homogeneidad\n",
    "tabla<-table(riskFactorsByDensidad[,c(\"BIRADS_breast_density\")])\n",
    "chisq.test(tabla)"
   ]
  },
  {
   "cell_type": "markdown",
   "metadata": {},
   "source": [
    "El valor de p-value me indica debo rechazar la hipótesis nula y concluimos que hay diferencias de \n",
    "probabilidades entre cada uno de los tipos de cáncer."
   ]
  },
  {
   "cell_type": "markdown",
   "metadata": {},
   "source": [
    "¿Cual es el tipo de cancer (BIRADS) más común? ¿Con qué proporción?"
   ]
  },
  {
   "cell_type": "code",
   "execution_count": 16,
   "metadata": {},
   "outputs": [
    {
     "data": {
      "text/plain": [
       "\n",
       "               Almost entirely fat Scattered fibroglandular densities \n",
       "                        0.08094849                         0.45380213 \n",
       "             Heterogeneously dense                    Extremely dense \n",
       "                        0.39547561                         0.06977378 "
      ]
     },
     "metadata": {},
     "output_type": "display_data"
    }
   ],
   "source": [
    "tablaProbabilidades <- prop.table(tabla)\n",
    "tablaProbabilidades"
   ]
  },
  {
   "cell_type": "code",
   "execution_count": 17,
   "metadata": {},
   "outputs": [
    {
     "name": "stdout",
     "output_type": "stream",
     "text": [
      "[1] \"La probabilidad del tipo 1 es 0.0809484873262469\"\n",
      "[1] \"La probabilidad del tipo 2 es 0.453802125919869\"\n",
      "[1] \"La probabilidad del tipo 3 es 0.39547560643227\"\n",
      "[1] \"La probabilidad del tipo 4 es 0.0697737803216135\"\n"
     ]
    }
   ],
   "source": [
    "print(paste(\"La probabilidad del tipo 1 es\",tablaProbabilidades[1]))\n",
    "print(paste(\"La probabilidad del tipo 2 es\",tablaProbabilidades[2]))\n",
    "print(paste(\"La probabilidad del tipo 3 es\",tablaProbabilidades[3]))\n",
    "print(paste(\"La probabilidad del tipo 4 es\",tablaProbabilidades[4]))"
   ]
  },
  {
   "cell_type": "markdown",
   "metadata": {},
   "source": [
    "Por tanto el tipo de cáncer más común es **Scattered fibroglandular densities** con una proporción del 45%"
   ]
  },
  {
   "cell_type": "markdown",
   "metadata": {},
   "source": [
    "¿Depende el tipo de cancer (BIRADS) de si ha habido o no antecedentes familiares?"
   ]
  },
  {
   "cell_type": "code",
   "execution_count": 18,
   "metadata": {},
   "outputs": [
    {
     "data": {
      "text/plain": [
       "\n",
       "\tPearson's Chi-squared test\n",
       "\n",
       "data:  tablaAntecedentes\n",
       "X-squared = 4.2475, df = 3, p-value = 0.236\n"
      ]
     },
     "metadata": {},
     "output_type": "display_data"
    }
   ],
   "source": [
    "#Voy a usar un test de independencia\n",
    "tablaAntecedentes <- table(riskFactorsByDensidad[,c(\"BIRADS_breast_density\",\"first_degree_hx\")])\n",
    "chisq.test(tablaAntecedentes)"
   ]
  },
  {
   "cell_type": "markdown",
   "metadata": {},
   "source": [
    "El p-valor es alto, por lo que no puedo rechazar la hipótesis nula y tengo que concluir que no existe evidencia estadística significativa como para decir el tipo de cáncer depende de si ha habido o no antecedentes familiares."
   ]
  },
  {
   "cell_type": "markdown",
   "metadata": {},
   "source": [
    "¿Depende el tipo de cancer BIRADS del grupo étnico?"
   ]
  },
  {
   "cell_type": "code",
   "execution_count": 19,
   "metadata": {},
   "outputs": [
    {
     "name": "stderr",
     "output_type": "stream",
     "text": [
      "Warning message in chisq.test(tablaGEtnico):\n",
      "“Chi-squared approximation may be incorrect”"
     ]
    },
    {
     "data": {
      "text/plain": [
       "\n",
       "\tPearson's Chi-squared test\n",
       "\n",
       "data:  tablaGEtnico\n",
       "X-squared = 48.684, df = 15, p-value = 1.971e-05\n"
      ]
     },
     "metadata": {},
     "output_type": "display_data"
    }
   ],
   "source": [
    "#Repito el mismo procedimiento que en el paso anterior\n",
    "tablaGEtnico <- table(riskFactorsByDensidad[,c(\"BIRADS_breast_density\",\"race_eth\")])\n",
    "chisq.test(tablaGEtnico)"
   ]
  },
  {
   "cell_type": "markdown",
   "metadata": {},
   "source": [
    "En este caso el p-valor es bajo, por lo que podríamos rechazar la hipótesis nula y concluir que si existe una dependencia \n",
    "entre el tipo de cáncer y el grupo étnico"
   ]
  },
  {
   "cell_type": "markdown",
   "metadata": {},
   "source": [
    "¿Cual es la probabilidad (con su margen de error del 95%) de que un *Native American* tenga un cancer de tipo *Almost entirely fat*?\n",
    "\n",
    "*Aviso*: Cuidado con los NA"
   ]
  },
  {
   "cell_type": "code",
   "execution_count": 20,
   "metadata": {},
   "outputs": [],
   "source": [
    "riskFactors.limpio <- subset(riskFactors.sample,!is.na(BIRADS_breast_density))\n",
    "riskFactors.limpio <- subset(riskFactors.limpio,!is.na(race_eth))"
   ]
  },
  {
   "cell_type": "code",
   "execution_count": 21,
   "metadata": {},
   "outputs": [
    {
     "data": {
      "text/plain": [
       "\n",
       "\t1-sample proportions test with continuity correction\n",
       "\n",
       "data:  ns out of n, null probability 0.5\n",
       "X-squared = 261.03, df = 1, p-value < 2.2e-16\n",
       "alternative hypothesis: true p is not equal to 0.5\n",
       "95 percent confidence interval:\n",
       " 0.0001955372 0.0239615134\n",
       "sample estimates:\n",
       "          p \n",
       "0.003745318 \n"
      ]
     },
     "metadata": {},
     "output_type": "display_data"
    }
   ],
   "source": [
    "#Método de Wald\n",
    "pval<-0.05\n",
    "n <- nrow(subset(riskFactors.limpio, BIRADS_breast_density == \"Almost entirely fat\"))\n",
    "ns <- nrow(subset(riskFactors.limpio,race_eth == \"Native American\" & BIRADS_breast_density == \"Almost entirely fat\"))\n",
    "prop.test(ns,n,conf.level = 1-pval)"
   ]
  },
  {
   "cell_type": "markdown",
   "metadata": {},
   "source": [
    "La probabilidad es de un 0.37%"
   ]
  },
  {
   "cell_type": "code",
   "execution_count": 22,
   "metadata": {},
   "outputs": [
    {
     "data": {
      "text/plain": [
       "\n",
       "\tExact binomial test\n",
       "\n",
       "data:  ns and n\n",
       "number of successes = 1, number of trials = 267, p-value < 2.2e-16\n",
       "alternative hypothesis: true probability of success is not equal to 0.5\n",
       "95 percent confidence interval:\n",
       " 9.481876e-05 2.068980e-02\n",
       "sample estimates:\n",
       "probability of success \n",
       "           0.003745318 \n"
      ]
     },
     "metadata": {},
     "output_type": "display_data"
    }
   ],
   "source": [
    "#Intervalo de confianza de proporcion binomal\n",
    "binom.test(ns,n)"
   ]
  },
  {
   "cell_type": "markdown",
   "metadata": {},
   "source": [
    "Observamos que en ambos casos nos sale la misma probabilidad, aunque con un intervalo de confianza diferente"
   ]
  }
 ],
 "metadata": {
  "kernelspec": {
   "display_name": "R",
   "language": "R",
   "name": "ir"
  },
  "language_info": {
   "codemirror_mode": "r",
   "file_extension": ".r",
   "mimetype": "text/x-r-source",
   "name": "R",
   "pygments_lexer": "r",
   "version": "3.2.3"
  }
 },
 "nbformat": 4,
 "nbformat_minor": 1
}
